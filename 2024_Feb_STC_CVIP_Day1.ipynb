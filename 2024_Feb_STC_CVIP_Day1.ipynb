{
 "cells": [
  {
   "cell_type": "code",
   "execution_count": null,
   "id": "0c502a54",
   "metadata": {},
   "outputs": [],
   "source": [
    "from matplotlib import pyplot as plt\n",
    "import cv2\n",
    "print(cv2.__version__)\n",
    "\n",
    "# Load an image from file\n",
    "img_path = \"D:\\_IITM_ZNZ\\Short_Course_CV_IVP_2024\\standard_test_images/\"\n",
    "img = cv2.imread(img_path + 'lena_color_512.tif')"
   ]
  },
  {
   "cell_type": "code",
   "execution_count": null,
   "id": "ced56dfc",
   "metadata": {},
   "outputs": [],
   "source": [
    "# Convert BGR image to RGB\n",
    "img_rgb = cv2.cvtColor(img, cv2.COLOR_BGR2RGB)\n",
    "\n",
    "# Display the loaded image\n",
    "plt.imshow(img_rgb)\n",
    "plt.title('Original Image ' + str(img_rgb.shape))\n",
    "plt.show()\n",
    "\n",
    "#cv2.imshow('Original Image', img)\n",
    "#cv2.waitKey(0)\n",
    "#cv2.destroyAllWindows()"
   ]
  },
  {
   "cell_type": "code",
   "execution_count": null,
   "id": "0a35545f",
   "metadata": {},
   "outputs": [],
   "source": [
    "# Resize the image\n",
    "resized_img = cv2.resize(img, (256, 256))\n",
    "plt.imshow(cv2.cvtColor(resized_img, cv2.COLOR_BGR2RGB))\n",
    "plt.title('Resized Image ' + str(resized_img.shape))\n",
    "plt.show()"
   ]
  },
  {
   "cell_type": "code",
   "execution_count": null,
   "id": "88fecba7",
   "metadata": {},
   "outputs": [],
   "source": [
    "# Rotate the image\n",
    "rotated_img = cv2.rotate(img, cv2.ROTATE_90_CLOCKWISE)\n",
    "plt.imshow(cv2.cvtColor(rotated_img, cv2.COLOR_BGR2RGB))\n",
    "plt.title('Rotated Image ' + str(rotated_img.shape))\n",
    "plt.show()"
   ]
  },
  {
   "cell_type": "code",
   "execution_count": null,
   "id": "0aeaa0db",
   "metadata": {},
   "outputs": [],
   "source": [
    "# Flip the image horizontally\n",
    "flipped_horizontal = cv2.flip(img, 1)\n",
    "\n",
    "# Flip the image vertically\n",
    "flipped_vertical = cv2.flip(img, 0)\n",
    "\n",
    "# Flip the image both horizontally and vertically\n",
    "flipped_both = cv2.flip(img, -1)\n",
    "\n",
    "plt.imshow(cv2.cvtColor(flipped_horizontal, cv2.COLOR_BGR2RGB))\n",
    "plt.title('flipped_horizontal Image ' + str(flipped_horizontal.shape))\n",
    "plt.show()\n",
    "\n",
    "plt.imshow(cv2.cvtColor(flipped_vertical, cv2.COLOR_BGR2RGB))\n",
    "plt.title('flipped_vertical Image ' + str(flipped_vertical.shape))\n",
    "plt.show()\n",
    "\n",
    "plt.imshow(cv2.cvtColor(flipped_both, cv2.COLOR_BGR2RGB))\n",
    "plt.title('flipped_both Image ' + str(flipped_both.shape))\n",
    "plt.show()"
   ]
  },
  {
   "cell_type": "code",
   "execution_count": null,
   "id": "99f2810d",
   "metadata": {},
   "outputs": [],
   "source": [
    "# Crop the image using the specified coordinates\n",
    "x, y, w, h = 100, 100, 300, 200  # Example coordinates (x, y, width, height)\n",
    "cropped_image = img[y:y+h, x:x+w]\n",
    "\n",
    "plt.imshow(cv2.cvtColor(cropped_image, cv2.COLOR_BGR2RGB))\n",
    "plt.title('Cropped Image ' + str(cropped_image.shape))\n",
    "plt.show()"
   ]
  },
  {
   "cell_type": "code",
   "execution_count": null,
   "id": "958dbff9",
   "metadata": {},
   "outputs": [],
   "source": [
    "# Convert the image to grayscale\n",
    "gray_img = cv2.cvtColor(img, cv2.COLOR_BGR2GRAY)\n",
    "\n",
    "plt.imshow(cv2.cvtColor(gray_img, cv2.COLOR_BGR2RGB))\n",
    "plt.title('Grayscale Image ' + str(gray_img.shape))\n",
    "plt.show()"
   ]
  },
  {
   "cell_type": "code",
   "execution_count": null,
   "id": "b7280c55",
   "metadata": {},
   "outputs": [],
   "source": [
    "# Save the image to a file\n",
    "cv2.imwrite(img_path + 'output_lena_color_512.tif', gray_img)"
   ]
  },
  {
   "cell_type": "code",
   "execution_count": null,
   "id": "eec27f94",
   "metadata": {},
   "outputs": [],
   "source": [
    "# Compute the histogram\n",
    "histogram = cv2.calcHist([gray_img], [0], None, [256], [0, 256])\n",
    "\n",
    "# Plot the histogram\n",
    "plt.figure()\n",
    "plt.title('Histogram of Grayscale Image')\n",
    "plt.xlabel('Pixel Value')\n",
    "plt.ylabel('Frequency')\n",
    "plt.plot(histogram)\n",
    "plt.xlim([0, 256])\n",
    "plt.show()"
   ]
  },
  {
   "cell_type": "code",
   "execution_count": null,
   "id": "9b5a79b6",
   "metadata": {},
   "outputs": [],
   "source": [
    "# Get image shape\n",
    "height, width, channels = img.shape\n",
    "\n",
    "print(\"Image Height:\", height)\n",
    "print(\"Image Width:\", width)\n",
    "print(\"Number of Channels:\", channels)"
   ]
  },
  {
   "cell_type": "code",
   "execution_count": null,
   "id": "1fedadfd",
   "metadata": {},
   "outputs": [],
   "source": [
    "# Get image size (total number of pixels)\n",
    "image_size = img.size\n",
    "\n",
    "print(\"Total Number of Pixels:\", image_size)"
   ]
  },
  {
   "cell_type": "code",
   "execution_count": null,
   "id": "d62b9767",
   "metadata": {},
   "outputs": [],
   "source": [
    "# Get image data type\n",
    "data_type = img.dtype\n",
    "\n",
    "print(\"Image Data Type:\", data_type)"
   ]
  },
  {
   "cell_type": "code",
   "execution_count": null,
   "id": "625073f8",
   "metadata": {},
   "outputs": [],
   "source": [
    "# Calculate minimum and maximum pixel values\n",
    "min_val, max_val, min_loc, max_loc = cv2.minMaxLoc(gray_img)\n",
    "\n",
    "print(\"Minimum pixel value:\", min_val)\n",
    "print(\"Maximum pixel value:\", max_val)"
   ]
  },
  {
   "cell_type": "code",
   "execution_count": null,
   "id": "13a5d4c5",
   "metadata": {},
   "outputs": [],
   "source": [
    "mean, std_dev = cv2.meanStdDev(gray_img)\n",
    "print('mean of gray_img:\\n', mean)\n",
    "print('std_dev of gray_img:\\n', std_dev)"
   ]
  },
  {
   "cell_type": "code",
   "execution_count": null,
   "id": "5502013b",
   "metadata": {},
   "outputs": [],
   "source": [
    "# Split the image into channels\n",
    "channel_names = ['Blue', 'Green', 'Red']\n",
    "count = 0\n",
    "for channel in cv2.split(img_rgb):        \n",
    "    plt.imshow(cv2.cvtColor(channel, cv2.COLOR_BGR2RGB))\n",
    "    plt.title(channel_names[count] + ' Channel Image ' + str(channel.shape))\n",
    "    plt.show()\n",
    "    \n",
    "    count += 1"
   ]
  },
  {
   "cell_type": "code",
   "execution_count": null,
   "id": "049bd44e",
   "metadata": {},
   "outputs": [],
   "source": [
    "# Calculate mean and standard deviation of pixel values\n",
    "mean, std_dev = cv2.meanStdDev(img)\n",
    "print('mean of img:\\n', mean)\n",
    "print('std_dev of img:\\n', std_dev)"
   ]
  },
  {
   "cell_type": "code",
   "execution_count": null,
   "id": "4ae3a0a8",
   "metadata": {},
   "outputs": [],
   "source": [
    "# Apply binary thresholding\n",
    "_, binary_img = cv2.threshold(gray_img, 100, 255, cv2.THRESH_BINARY)\n",
    "plt.imshow(cv2.cvtColor(binary_img, cv2.COLOR_BGR2RGB))\n",
    "plt.title('Binary Image ' + str(binary_img.shape))\n",
    "plt.show()"
   ]
  },
  {
   "cell_type": "code",
   "execution_count": null,
   "id": "1a49b862",
   "metadata": {},
   "outputs": [],
   "source": []
  }
 ],
 "metadata": {
  "kernelspec": {
   "display_name": "Python 3 (ipykernel)",
   "language": "python",
   "name": "python3"
  },
  "language_info": {
   "codemirror_mode": {
    "name": "ipython",
    "version": 3
   },
   "file_extension": ".py",
   "mimetype": "text/x-python",
   "name": "python",
   "nbconvert_exporter": "python",
   "pygments_lexer": "ipython3",
   "version": "3.9.12"
  }
 },
 "nbformat": 4,
 "nbformat_minor": 5
}

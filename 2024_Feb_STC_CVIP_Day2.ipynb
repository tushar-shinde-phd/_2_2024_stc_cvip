{
 "cells": [
  {
   "cell_type": "code",
   "execution_count": null,
   "id": "0c502a54",
   "metadata": {},
   "outputs": [],
   "source": [
    "from matplotlib import pyplot as plt\n",
    "import cv2\n",
    "print(cv2.__version__)\n",
    "\n",
    "def display_img(img, title):\n",
    "    plt.imshow(cv2.cvtColor(img, cv2.COLOR_BGR2RGB))\n",
    "    plt.title(title)\n",
    "    plt.show()\n",
    "\n",
    "# Load an image from file\n",
    "img_path = \"D:\\Short_Course_CV_IVP_2024\\standard_test_images/\"\n",
    "img = cv2.imread(img_path + 'lena_color_512.tif')"
   ]
  },
  {
   "cell_type": "code",
   "execution_count": null,
   "id": "ced56dfc",
   "metadata": {},
   "outputs": [],
   "source": [
    "# Convert BGR image to RGB\n",
    "img_rgb = cv2.cvtColor(img, cv2.COLOR_BGR2RGB)\n",
    "\n",
    "# Display the loaded image\n",
    "plt.imshow(img_rgb)\n",
    "plt.title('Original Image ' + str(img_rgb.shape))\n",
    "plt.show()"
   ]
  },
  {
   "cell_type": "code",
   "execution_count": null,
   "id": "90b68be7",
   "metadata": {},
   "outputs": [],
   "source": [
    "# Convert the image to grayscale\n",
    "gray_img = cv2.cvtColor(img, cv2.COLOR_BGR2GRAY)\n",
    "\n",
    "display_img(gray_img, 'Grayscale Image ' + str(gray_img.shape))"
   ]
  },
  {
   "cell_type": "code",
   "execution_count": null,
   "id": "af3ce84a",
   "metadata": {},
   "outputs": [],
   "source": [
    "# Save the image to a file\n",
    "cv2.imwrite(img_path + 'output_lena_color_512.tif', gray_img)"
   ]
  },
  {
   "cell_type": "code",
   "execution_count": null,
   "id": "0ef19fe6",
   "metadata": {},
   "outputs": [],
   "source": [
    "# Apply Gaussian blur\n",
    "blurred_img = cv2.GaussianBlur(gray_img, (25, 25), 0)\n",
    "\n",
    "display_img(blurred_img, 'Blurred Image ' + str(blurred_img.shape))"
   ]
  },
  {
   "cell_type": "code",
   "execution_count": null,
   "id": "eac48946",
   "metadata": {},
   "outputs": [],
   "source": [
    "# Apply Median blur\n",
    "median_blurred_image = cv2.medianBlur(gray_img, 25)\n",
    "\n",
    "display_img(median_blurred_image, 'Blurred Image ' + str(median_blurred_image.shape))"
   ]
  },
  {
   "cell_type": "code",
   "execution_count": null,
   "id": "6f9a670e",
   "metadata": {},
   "outputs": [],
   "source": [
    "import numpy as np\n",
    "# Define 3x3 kernels\n",
    "gaussian_kernel = np.array([[1, 2, 1],\n",
    "                            [2, 4, 2],\n",
    "                            [1, 2, 1]]) / 16.0\n",
    "print(gaussian_kernel)"
   ]
  },
  {
   "cell_type": "code",
   "execution_count": null,
   "id": "1b25cbee",
   "metadata": {},
   "outputs": [],
   "source": [
    "# Generate random noise\n",
    "noise = np.random.normal(0, 10, gray_img.shape).astype('uint8')\n",
    "\n",
    "# Add noise to the clean image\n",
    "noisy_img = cv2.add(gray_img, noise)\n",
    "\n",
    "display_img(noisy_img, 'Noisy Image ' + str(noisy_img.shape))"
   ]
  },
  {
   "cell_type": "code",
   "execution_count": null,
   "id": "bdf5b55d",
   "metadata": {},
   "outputs": [],
   "source": [
    "# Apply Gaussian blur\n",
    "blurred_img = cv2.GaussianBlur(noisy_img, (5, 5), 0)\n",
    "\n",
    "display_img(blurred_img, 'Blurred Image (Noise Reduction) ' + str(blurred_img.shape))"
   ]
  },
  {
   "cell_type": "code",
   "execution_count": null,
   "id": "2354077a",
   "metadata": {},
   "outputs": [],
   "source": [
    "def add_salt_and_pepper_noise(image, noise_ratio):\n",
    "    noisy_image = np.copy(image)\n",
    "\n",
    "    # Calculate the number of noisy pixels\n",
    "    num_noisy_pixels = int(noise_ratio * image.size)\n",
    "\n",
    "    # Add salt noise\n",
    "    salt_coordinates = [np.random.randint(0, i, num_noisy_pixels) for i in image.shape]\n",
    "    noisy_image[salt_coordinates[0], salt_coordinates[1]] = 255\n",
    "\n",
    "    # Add pepper noise\n",
    "    pepper_coordinates = [np.random.randint(0, i, num_noisy_pixels) for i in image.shape]\n",
    "    noisy_image[pepper_coordinates[0], pepper_coordinates[1]] = 0\n",
    "\n",
    "    return noisy_image\n",
    "\n",
    "noisy_img = add_salt_and_pepper_noise(gray_img, 0.25)  # Add 5% noisy pixels\n",
    "\n",
    "display_img(noisy_img, 'Noisy Image ' + str(noisy_img.shape))"
   ]
  },
  {
   "cell_type": "code",
   "execution_count": null,
   "id": "ffbc7448",
   "metadata": {},
   "outputs": [],
   "source": [
    "# Apply Median blur\n",
    "median_blurred_image = cv2.medianBlur(noisy_img, 3)\n",
    "\n",
    "display_img(median_blurred_image, 'Median Filtered Image ' + str(median_blurred_image.shape))"
   ]
  },
  {
   "cell_type": "code",
   "execution_count": null,
   "id": "23b06a3e",
   "metadata": {},
   "outputs": [],
   "source": [
    "# Apply Median blur\n",
    "median_blurred_image = cv2.medianBlur(median_blurred_image, 5)\n",
    "\n",
    "display_img(median_blurred_image, 'Median Filtered Image 2 ' + str(median_blurred_image.shape))"
   ]
  },
  {
   "cell_type": "code",
   "execution_count": null,
   "id": "c3eb4eb1",
   "metadata": {},
   "outputs": [],
   "source": [
    "# Define the sharpening kernel\n",
    "sharpening_kernel = np.array([[-1, -1, -1],\n",
    "                               [-1, 9, -1],\n",
    "                               [-1, -1, -1]])\n",
    "\n",
    "# Apply the sharpening filter\n",
    "sharpened_img = cv2.filter2D(gray_img, -1, sharpening_kernel)\n",
    "\n",
    "display_img(sharpened_img, 'Sharpened Image ' + str(sharpened_img.shape))"
   ]
  },
  {
   "cell_type": "code",
   "execution_count": null,
   "id": "80992e2f",
   "metadata": {},
   "outputs": [],
   "source": [
    "# Apply the Sobel edge detection filter\n",
    "sobel_x = cv2.Sobel(gray_img, cv2.CV_64F, 1, 0, ksize=3)\n",
    "sobel_y = cv2.Sobel(gray_img, cv2.CV_64F, 0, 1, ksize=3)\n",
    "\n",
    "_sobel_x = np.array([[-1, 0, 1],\n",
    "                    [-2, 0, 2],\n",
    "                    [-1, 0, 1]])\n",
    "\n",
    "_sobel_y = np.array([[-1, -2, -1],\n",
    "                    [0, 0, 0],\n",
    "                    [1, 2, 1]])\n",
    "\n",
    "# Compute the magnitude of the gradient\n",
    "sobel_img = cv2.magnitude(sobel_x, sobel_y)\n",
    "sobel_img_uint8 = cv2.convertScaleAbs(sobel_img)\n",
    "\n",
    "display_img(sobel_img_uint8, 'Sobel Image ' + str(sobel_img.shape))"
   ]
  },
  {
   "cell_type": "code",
   "execution_count": null,
   "id": "76a0373a",
   "metadata": {},
   "outputs": [],
   "source": [
    "# Apply the Prewitt edge detection filter\n",
    "\n",
    "# Define the Prewitt kernels for horizontal and vertical gradients\n",
    "prewitt_x = np.array([[-1, 0, 1],\n",
    "                      [-1, 0, 1],\n",
    "                      [-1, 0, 1]])\n",
    "\n",
    "prewitt_y = np.array([[-1, -1, -1],\n",
    "                      [0, 0, 0],\n",
    "                      [1, 1, 1]])\n",
    "\n",
    "# Apply the Prewitt filter for horizontal and vertical gradients\n",
    "prewitt_x_image = cv2.filter2D(gray_img, -1, prewitt_x, borderType=cv2.BORDER_REPLICATE)\n",
    "prewitt_y_image = cv2.filter2D(gray_img, -1, prewitt_y, borderType=cv2.BORDER_REPLICATE)\n",
    "\n",
    "# Convert to float32 (required for cv2.magnitude)\n",
    "prewitt_x_image = np.float32(prewitt_x_image)\n",
    "prewitt_y_image = np.float32(prewitt_y_image)\n",
    "\n",
    "# Compute the magnitude of the gradient\n",
    "prewitt_img = cv2.magnitude(prewitt_x_image, prewitt_y_image)\n",
    "\n",
    "# Convert back to uint8 for visualization\n",
    "prewitt_img_uint8 = cv2.convertScaleAbs(prewitt_img)\n",
    "\n",
    "display_img(prewitt_img_uint8, 'Prewitt Image ' + str(prewitt_img.shape))"
   ]
  },
  {
   "cell_type": "code",
   "execution_count": null,
   "id": "170a0572",
   "metadata": {},
   "outputs": [],
   "source": [
    "# Apply the Canny edge detector\n",
    "canny_edges = cv2.Canny(gray_img, 100, 200)  # Adjust threshold values as needed\n",
    "\n",
    "display_img(canny_edges, 'Canny Image ' + str(canny_edges.shape))"
   ]
  },
  {
   "cell_type": "code",
   "execution_count": null,
   "id": "744425a1",
   "metadata": {},
   "outputs": [],
   "source": [
    "# Define a structuring element for morphological operations\n",
    "kernel = np.ones((3, 3), np.uint8)  # 5x5 square kernel\n",
    "\n",
    "# Perform morphological operations\n",
    "erosion = cv2.erode(canny_edges, kernel, iterations=1)\n",
    "dilation = cv2.dilate(canny_edges, kernel, iterations=1)\n",
    "\n",
    "display_img(erosion, 'Erosion Image ' + str(erosion.shape))\n",
    "display_img(dilation, 'Dilation Image ' + str(dilation.shape))"
   ]
  },
  {
   "cell_type": "code",
   "execution_count": null,
   "id": "60b70774",
   "metadata": {
    "scrolled": true
   },
   "outputs": [],
   "source": [
    "opening = cv2.morphologyEx(canny_edges, cv2.MORPH_OPEN, kernel)\n",
    "closing = cv2.morphologyEx(canny_edges, cv2.MORPH_CLOSE, kernel)\n",
    "\n",
    "display_img(opening, 'Opening Image ' + str(opening.shape))\n",
    "display_img(closing, 'Closing Image ' + str(closing.shape))"
   ]
  },
  {
   "cell_type": "code",
   "execution_count": null,
   "id": "a6b57105",
   "metadata": {},
   "outputs": [],
   "source": [
    "# Resize the low-resolution image using bicubic interpolation\n",
    "high_res_image = cv2.resize(gray_img, None, fx=2, fy=2, interpolation=cv2.INTER_CUBIC)\n",
    "\n",
    "display_img(high_res_image, 'High Resolution Image ' + str(high_res_image.shape))"
   ]
  },
  {
   "cell_type": "code",
   "execution_count": null,
   "id": "fa1ff1f1",
   "metadata": {},
   "outputs": [],
   "source": [
    "# Resize the low-resolution image using bicubic interpolation\n",
    "high_res_image = cv2.resize(gray_img, None, fx=16, fy=16, interpolation=cv2.INTER_CUBIC)\n",
    "\n",
    "display_img(high_res_image, 'High Resolution Image ' + str(high_res_image.shape))"
   ]
  },
  {
   "cell_type": "code",
   "execution_count": null,
   "id": "8ac99e5a",
   "metadata": {},
   "outputs": [],
   "source": [
    "# Resize the low-resolution image using nearest interpolation\n",
    "high_res_image = cv2.resize(gray_img, None, fx=0.125, fy=0.125, interpolation=cv2.INTER_NEAREST)\n",
    "\n",
    "display_img(high_res_image, 'High Resolution Image ' + str(high_res_image.shape))"
   ]
  },
  {
   "cell_type": "code",
   "execution_count": null,
   "id": "6b7a41dc",
   "metadata": {},
   "outputs": [],
   "source": [
    "# Resize the low-resolution image using nearest interpolation\n",
    "high_res_image2 = cv2.resize(high_res_image, None, fx=2, fy=2, interpolation=cv2.INTER_CUBIC)\n",
    "\n",
    "display_img(high_res_image2, 'High Resolution Image ' + str(high_res_image2.shape))"
   ]
  },
  {
   "cell_type": "code",
   "execution_count": null,
   "id": "2fc12e4f",
   "metadata": {},
   "outputs": [],
   "source": [
    "# Datasets for super-resolution\n",
    "# https://openmmlab.medium.com/awesome-datasets-for-super-resolution-introduction-and-pre-processing-55f8501f8b18"
   ]
  }
 ],
 "metadata": {
  "kernelspec": {
   "display_name": "Python 3 (ipykernel)",
   "language": "python",
   "name": "python3"
  },
  "language_info": {
   "codemirror_mode": {
    "name": "ipython",
    "version": 3
   },
   "file_extension": ".py",
   "mimetype": "text/x-python",
   "name": "python",
   "nbconvert_exporter": "python",
   "pygments_lexer": "ipython3",
   "version": "3.9.12"
  }
 },
 "nbformat": 4,
 "nbformat_minor": 5
}

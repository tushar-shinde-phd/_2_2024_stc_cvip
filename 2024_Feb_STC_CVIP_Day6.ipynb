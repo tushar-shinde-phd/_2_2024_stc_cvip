{
 "cells": [
  {
   "cell_type": "code",
   "execution_count": null,
   "id": "0c502a54",
   "metadata": {},
   "outputs": [],
   "source": [
    "from matplotlib import pyplot as plt\n",
    "import cv2\n",
    "import numpy as np\n",
    "print(cv2.__version__)\n",
    "\n",
    "def display_img(img, title):\n",
    "    plt.imshow(cv2.cvtColor(img, cv2.COLOR_BGR2RGB))\n",
    "    plt.title(title)\n",
    "    plt.show()\n",
    "\n",
    "# Load an image from file\n",
    "img_path = \"D:\\Short_Course_CV_IVP_2024\\standard_test_images/\""
   ]
  },
  {
   "cell_type": "code",
   "execution_count": null,
   "id": "ced56dfc",
   "metadata": {},
   "outputs": [],
   "source": [
    "# Example usage\n",
    "image = cv2.imread(img_path + 'lena_color_512.tif')\n",
    "\n",
    "display_img(image, 'image1 ' + str(image.shape))"
   ]
  },
  {
   "cell_type": "code",
   "execution_count": null,
   "id": "08d5ef9d",
   "metadata": {},
   "outputs": [],
   "source": [
    "# Convert the image to grayscale\n",
    "reference_img = cv2.cvtColor(image, cv2.COLOR_BGR2GRAY)\n",
    "\n",
    "display_img(reference_img, 'reference_img ' + str(reference_img.shape))"
   ]
  },
  {
   "cell_type": "code",
   "execution_count": null,
   "id": "c970067f",
   "metadata": {},
   "outputs": [],
   "source": [
    "# Apply Median blur\n",
    "filter_size = 11\n",
    "distorted_img = cv2.medianBlur(reference_img, filter_size)\n",
    "\n",
    "display_img(distorted_img, 'distorted_img median filter ' + str(filter_size) + 'x' + str(filter_size))"
   ]
  },
  {
   "cell_type": "code",
   "execution_count": null,
   "id": "6d92fe54",
   "metadata": {},
   "outputs": [],
   "source": [
    "import numpy as np\n",
    "\n",
    "def compute_mse(reference_img, distorted_img):\n",
    "    # Ensure images have the same shape\n",
    "    if reference_img.shape != distorted_img.shape:\n",
    "        raise ValueError(\"Reference and distorted images must have the same shape.\")\n",
    "\n",
    "    # Compute squared differences between corresponding pixel values\n",
    "    squared_diff = (reference_img - distorted_img) ** 2\n",
    "\n",
    "    # Compute mean squared error\n",
    "    mse = np.mean(squared_diff)\n",
    "\n",
    "    return mse\n",
    "\n",
    "mse = compute_mse(reference_img, distorted_img)\n",
    "print('MSE: ', mse)"
   ]
  },
  {
   "cell_type": "code",
   "execution_count": null,
   "id": "1b5bc5e0",
   "metadata": {},
   "outputs": [],
   "source": [
    "def compute_psnr(reference_img, distorted_img, max_pixel_value=255):    \n",
    "    # Ensure images have the same shape\n",
    "    if reference_img.shape != distorted_img.shape:\n",
    "        raise ValueError(\"Reference and distorted images must have the same shape.\")\n",
    "\n",
    "    # Compute mean squared error\n",
    "    mse = compute_mse(reference_img, distorted_img)\n",
    "\n",
    "    # Calculate PSNR using the formula: PSNR = 20 * log10(MAX_I/(MSE^(1/2)))\n",
    "    psnr = 20 * np.log10(max_pixel_value / np.sqrt(mse))\n",
    "\n",
    "    return psnr\n",
    "\n",
    "psnr = compute_psnr(reference_img, distorted_img)\n",
    "print('PSNR: ', psnr)"
   ]
  },
  {
   "cell_type": "code",
   "execution_count": null,
   "id": "a886ff01",
   "metadata": {},
   "outputs": [],
   "source": [
    "from skimage.metrics import structural_similarity as ssim\n",
    "\n",
    "def compute_ssim(reference_img, distorted_img):\n",
    "    # Compute SSIM\n",
    "    ssim_value, _ = ssim(reference_img, distorted_img, full=True)\n",
    "\n",
    "    return ssim_value\n",
    "\n",
    "ssim = compute_ssim(reference_img, distorted_img)\n",
    "print('SSIM: ', ssim)"
   ]
  },
  {
   "cell_type": "code",
   "execution_count": null,
   "id": "36c5d3bb",
   "metadata": {},
   "outputs": [],
   "source": [
    "# https://pypi.org/project/piq/\n",
    "\n",
    "from skimage.metrics import structural_similarity as ssim\n",
    "\n",
    "def compute_vqm(reference_video, distorted_video):\n",
    "    # Compute SSIM for each frame pair\n",
    "    ssim_scores = []\n",
    "    for ref_frame, distorted_frame in zip(reference_video, distorted_video):\n",
    "        ssim_score, _ = ssim(ref_frame, distorted_frame, full=True)\n",
    "        ssim_scores.append(ssim_score)\n",
    "\n",
    "    # Compute average SSIM as VQM\n",
    "    vqm_value = sum(ssim_scores) / len(ssim_scores)\n",
    "\n",
    "    return vqm_value\n",
    "\n",
    "vqm = compute_vqm(reference_img, distorted_img)\n",
    "print('VQM: ', vqm)"
   ]
  },
  {
   "cell_type": "code",
   "execution_count": null,
   "id": "d5fc7bc8",
   "metadata": {},
   "outputs": [],
   "source": [
    "import skvideo.measure as skv\n",
    "\n",
    "def compute_ssimv(reference_video, distorted_video):\n",
    "    # Compute SSIMV\n",
    "    ssimv_value = skv.ssim(reference_video, distorted_video)\n",
    "\n",
    "    return ssimv_value"
   ]
  },
  {
   "cell_type": "code",
   "execution_count": null,
   "id": "2b2aa74f",
   "metadata": {},
   "outputs": [],
   "source": [
    "from ffmpeg_quality_metrics import VideoMetrics\n",
    "\n",
    "def compute_quality_metrics(reference_video, distorted_video):\n",
    "    # Initialize VideoMetrics object\n",
    "    metrics = VideoMetrics()\n",
    "\n",
    "    # Compute quality metrics\n",
    "    metrics_result = metrics.compute_video_metrics(reference_video, distorted_video)\n",
    "\n",
    "    return metrics_result"
   ]
  },
  {
   "cell_type": "code",
   "execution_count": null,
   "id": "5de44b8c",
   "metadata": {},
   "outputs": [],
   "source": [
    "# Datasets discussed\n",
    "# TID 2008 https://www.ponomarenko.info/tid2008.htm\n",
    "# TID 2013 https://www.ponomarenko.info/tid2013.htm\n",
    "# LIVE https://live.ece.utexas.edu/research/quality/subjective.htm\n",
    "# https://www.jasongt.com/projectpages/pipal.html"
   ]
  }
 ],
 "metadata": {
  "kernelspec": {
   "display_name": "Python 3 (ipykernel)",
   "language": "python",
   "name": "python3"
  },
  "language_info": {
   "codemirror_mode": {
    "name": "ipython",
    "version": 3
   },
   "file_extension": ".py",
   "mimetype": "text/x-python",
   "name": "python",
   "nbconvert_exporter": "python",
   "pygments_lexer": "ipython3",
   "version": "3.9.12"
  }
 },
 "nbformat": 4,
 "nbformat_minor": 5
}

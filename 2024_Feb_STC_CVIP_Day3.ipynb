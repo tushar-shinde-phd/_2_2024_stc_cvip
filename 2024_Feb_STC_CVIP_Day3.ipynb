{
 "cells": [
  {
   "cell_type": "code",
   "execution_count": null,
   "id": "0c502a54",
   "metadata": {},
   "outputs": [],
   "source": [
    "from matplotlib import pyplot as plt\n",
    "import cv2\n",
    "print(cv2.__version__)\n",
    "\n",
    "def display_img(img, title):\n",
    "    plt.imshow(cv2.cvtColor(img, cv2.COLOR_BGR2RGB))\n",
    "    plt.title(title)\n",
    "    plt.show()\n",
    "\n",
    "# Load an image from file\n",
    "img_path = \"D:\\Short_Course_CV_IVP_2024\\standard_test_images/\"\n",
    "img = cv2.imread(img_path + 'lena_color_512.tif')"
   ]
  },
  {
   "cell_type": "code",
   "execution_count": null,
   "id": "ced56dfc",
   "metadata": {},
   "outputs": [],
   "source": [
    "# Convert BGR image to RGB\n",
    "img_rgb = cv2.cvtColor(img, cv2.COLOR_BGR2RGB)\n",
    "\n",
    "# Display the loaded image\n",
    "plt.imshow(img_rgb)\n",
    "plt.title('Original Image ' + str(img_rgb.shape))\n",
    "plt.show()"
   ]
  },
  {
   "cell_type": "code",
   "execution_count": null,
   "id": "90b68be7",
   "metadata": {},
   "outputs": [],
   "source": [
    "# Convert the image to grayscale\n",
    "gray_img = cv2.cvtColor(img, cv2.COLOR_BGR2GRAY)\n",
    "\n",
    "display_img(gray_img, 'Grayscale Image ' + str(gray_img.shape))"
   ]
  },
  {
   "cell_type": "code",
   "execution_count": null,
   "id": "af3ce84a",
   "metadata": {},
   "outputs": [],
   "source": [
    "# Save the image to a file\n",
    "cv2.imwrite(img_path + 'output_lena_color_512.tif', gray_img)"
   ]
  },
  {
   "cell_type": "code",
   "execution_count": null,
   "id": "cb6cf1bc",
   "metadata": {},
   "outputs": [],
   "source": [
    "# Compute the histogram\n",
    "histogram = cv2.calcHist([gray_img], [0], None, [256], [0, 256])\n",
    "\n",
    "# Plot the histogram\n",
    "plt.figure()\n",
    "plt.title('Histogram of Grayscale Image')\n",
    "plt.xlabel('Pixel Value')\n",
    "plt.ylabel('Frequency')\n",
    "plt.plot(histogram)\n",
    "plt.xlim([0, 256])\n",
    "plt.show()"
   ]
  },
  {
   "cell_type": "code",
   "execution_count": null,
   "id": "d495f229",
   "metadata": {},
   "outputs": [],
   "source": [
    "# Apply Sobel edge detection\n",
    "sobel_x = cv2.Sobel(gray_img, cv2.CV_64F, 1, 0, ksize=3)\n",
    "sobel_y = cv2.Sobel(gray_img, cv2.CV_64F, 0, 1, ksize=3)\n",
    "\n",
    "# Plot edge images\n",
    "plt.figure()\n",
    "plt.title(\"Sobel Edge Detection\")\n",
    "plt.subplot(1, 2, 1), plt.imshow(sobel_x, cmap='gray'), plt.title('Sobel X')\n",
    "plt.subplot(1, 2, 2), plt.imshow(sobel_y, cmap='gray'), plt.title('Sobel Y')\n",
    "plt.show()"
   ]
  },
  {
   "cell_type": "code",
   "execution_count": null,
   "id": "483a00dc",
   "metadata": {},
   "outputs": [],
   "source": [
    "# Initialize HOG descriptor\n",
    "hog = cv2.HOGDescriptor()\n",
    "\n",
    "# Compute HOG features\n",
    "features = hog.compute(gray_img)\n",
    "\n",
    "# Display the computed HOG features\n",
    "print(\"HOG features shape:\", features.shape)"
   ]
  },
  {
   "cell_type": "code",
   "execution_count": null,
   "id": "87dd0d14",
   "metadata": {},
   "outputs": [],
   "source": [
    "from skimage.feature import hog\n",
    "\n",
    "# Calculate HOG features\n",
    "features, hog_image = hog(gray_img, orientations=9, pixels_per_cell=(8, 8), cells_per_block=(2, 2), visualize=True)\n",
    "\n",
    "# Plot HOG image\n",
    "plt.figure(figsize=(8, 4))\n",
    "plt.subplot(1, 2, 1)\n",
    "plt.imshow(gray_img, cmap='gray')\n",
    "plt.title('Input Image')\n",
    "plt.axis('off')\n",
    "\n",
    "plt.subplot(1, 2, 2)\n",
    "plt.imshow(hog_image, cmap='gray')\n",
    "plt.title('HOG Image')\n",
    "plt.axis('off')"
   ]
  },
  {
   "cell_type": "code",
   "execution_count": null,
   "id": "92f15fe2",
   "metadata": {},
   "outputs": [],
   "source": [
    "# Initialize the SIFT detector\n",
    "sift = cv2.SIFT_create()\n",
    "\n",
    "# Detect keypoints and compute descriptors\n",
    "keypoints, descriptors = sift.detectAndCompute(gray_img, None)\n",
    "\n",
    "# Draw keypoints on the image\n",
    "image_with_keypoints = cv2.drawKeypoints(gray_img, keypoints, None)\n",
    "\n",
    "display_img(image_with_keypoints, 'Image_with_keypoints ' + str(image_with_keypoints.shape))"
   ]
  },
  {
   "cell_type": "code",
   "execution_count": null,
   "id": "2092ce60",
   "metadata": {},
   "outputs": [],
   "source": [
    "# Detect corners using Harris Corner Detector\n",
    "dst = cv2.cornerHarris(gray_img, blockSize=2, ksize=3, k=0.04)\n",
    "\n",
    "# Threshold to obtain corner points\n",
    "threshold = 0.0001 * dst.max()\n",
    "corner_image = gray_img.copy()\n",
    "corner_image[dst <= threshold] = 0\n",
    "corner_image[dst > threshold] = 255 # [0, 0, 255]\n",
    "\n",
    "display_img(corner_image, 'Harris Corner Detector Image ' + str(corner_image.shape))"
   ]
  },
  {
   "cell_type": "code",
   "execution_count": null,
   "id": "5d858b16",
   "metadata": {},
   "outputs": [],
   "source": [
    "from skimage.feature import local_binary_pattern\n",
    "\n",
    "# Calculate LBP features\n",
    "radius = 5\n",
    "n_points = 1 * radius\n",
    "lbp = local_binary_pattern(gray_img, n_points, radius, method='uniform')\n",
    "\n",
    "# Plot LBP image\n",
    "plt.figure()\n",
    "plt.title(\"Local Binary Patterns (LBP)\")\n",
    "plt.imshow(lbp, cmap='gray')\n",
    "plt.show()"
   ]
  },
  {
   "cell_type": "code",
   "execution_count": null,
   "id": "ca8f9b74",
   "metadata": {},
   "outputs": [],
   "source": [
    "# Import the necessary libraries\n",
    "import numpy as np\n",
    "from sklearn.datasets import fetch_openml\n",
    "from sklearn.model_selection import train_test_split\n",
    "from sklearn.linear_model import LogisticRegression\n",
    "from sklearn.metrics import accuracy_score\n",
    "\n",
    "# Load the MNIST dataset\n",
    "mnist = fetch_openml('mnist_784')\n",
    "X, y = mnist.data, mnist.target.astype(int)\n",
    "\n",
    "print(X.shape, y.shape)"
   ]
  },
  {
   "cell_type": "code",
   "execution_count": null,
   "id": "24ccffae",
   "metadata": {},
   "outputs": [],
   "source": [
    "# Split the dataset into training and testing sets\n",
    "X_train, X_test, y_train, y_test = train_test_split(X, y, test_size=0.2, random_state=42)\n",
    "\n",
    "image = np.array(X_train.iloc[0]).reshape(28, 28)\n",
    "plt.imshow(image)"
   ]
  },
  {
   "cell_type": "code",
   "execution_count": null,
   "id": "d6e202fc",
   "metadata": {},
   "outputs": [],
   "source": [
    "from sklearn.linear_model import SGDClassifier\n",
    "model = SGDClassifier()  # LogisticRegression\n",
    "model.fit(X_train, y_train)\n",
    "\n",
    "predictions = model.predict(X_test)\n",
    "print(predictions)"
   ]
  },
  {
   "cell_type": "code",
   "execution_count": null,
   "id": "e72cb978",
   "metadata": {},
   "outputs": [],
   "source": [
    "from sklearn.metrics import accuracy_score, precision_score, recall_score, f1_score, confusion_matrix\n",
    "\n",
    "# Compute accuracy\n",
    "accuracy = accuracy_score(y_test, predictions)\n",
    "\n",
    "# Compute precision\n",
    "precision = precision_score(y_test, predictions, average='weighted')\n",
    "\n",
    "# Compute recall\n",
    "recall = recall_score(y_test, predictions, average='weighted')\n",
    "\n",
    "# Compute F1-score\n",
    "f1 = f1_score(y_test, predictions, average='weighted')\n",
    "\n",
    "# Compute confusion matrix\n",
    "conf_matrix = confusion_matrix(y_test, predictions)\n",
    "\n",
    "# Print the computed metrics\n",
    "print(\"\\nAccuracy:\", accuracy)\n",
    "print(\"\\nPrecision:\", precision)\n",
    "print(\"\\nRecall:\", recall)\n",
    "print(\"\\nF1-score:\", f1)\n",
    "print(\"\\nConfusion Matrix:\")\n",
    "print(conf_matrix)"
   ]
  },
  {
   "cell_type": "code",
   "execution_count": null,
   "id": "21e3134d",
   "metadata": {},
   "outputs": [],
   "source": [
    "index = 100\n",
    "plt.imshow(np.array(X_test.iloc[index]).reshape(28, 28), cmap='gray')\n",
    "plt.axis('off')\n",
    "plt.title('Predicted Label: ' + str(predictions[index]))\n",
    "plt.show()"
   ]
  },
  {
   "cell_type": "code",
   "execution_count": null,
   "id": "c8e53e43",
   "metadata": {},
   "outputs": [],
   "source": []
  }
 ],
 "metadata": {
  "kernelspec": {
   "display_name": "Python 3 (ipykernel)",
   "language": "python",
   "name": "python3"
  },
  "language_info": {
   "codemirror_mode": {
    "name": "ipython",
    "version": 3
   },
   "file_extension": ".py",
   "mimetype": "text/x-python",
   "name": "python",
   "nbconvert_exporter": "python",
   "pygments_lexer": "ipython3",
   "version": "3.9.12"
  }
 },
 "nbformat": 4,
 "nbformat_minor": 5
}

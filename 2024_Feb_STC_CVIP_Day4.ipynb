{
 "cells": [
  {
   "cell_type": "code",
   "execution_count": null,
   "id": "0c502a54",
   "metadata": {},
   "outputs": [],
   "source": [
    "from matplotlib import pyplot as plt\n",
    "import cv2\n",
    "import numpy as np\n",
    "print(cv2.__version__)\n",
    "\n",
    "def display_img(img, title):\n",
    "    plt.imshow(cv2.cvtColor(img, cv2.COLOR_BGR2RGB))\n",
    "    plt.title(title)\n",
    "    plt.show()\n",
    "\n",
    "# Load an image from file\n",
    "img_path = \"D:\\Short_Course_CV_IVP_2024\\standard_test_images/\""
   ]
  },
  {
   "cell_type": "code",
   "execution_count": null,
   "id": "ced56dfc",
   "metadata": {},
   "outputs": [],
   "source": [
    "image1 = cv2.imread(img_path + 'image1.jpg')\n",
    "image2 = cv2.imread(img_path + 'image2.jpg')\n",
    "\n",
    "display_img(image1, 'image1 ' + str(image1.shape))\n",
    "display_img(image2, 'image2 ' + str(image2.shape))\n"
   ]
  },
  {
   "cell_type": "code",
   "execution_count": null,
   "id": "f6ed69be",
   "metadata": {},
   "outputs": [],
   "source": [
    "def translate(image, tx, ty):\n",
    "    rows, cols = image.shape[:2]\n",
    "    translation_matrix = np.float32([[1, 0, tx], [0, 1, ty]])\n",
    "    print(translation_matrix)\n",
    "    translated_image = cv2.warpAffine(image, translation_matrix, (cols, rows))\n",
    "    return translated_image\n",
    "\n",
    "translated_image = translate(image1, 1000, 500)\n",
    "\n",
    "display_img(translated_image, 'Translated Image ' + str(translated_image.shape))"
   ]
  },
  {
   "cell_type": "code",
   "execution_count": null,
   "id": "2c7e572c",
   "metadata": {},
   "outputs": [],
   "source": [
    "def rotate(image, angle):\n",
    "    rows, cols = image.shape[:2]\n",
    "    rotation_matrix = cv2.getRotationMatrix2D((cols/2, rows/2), angle, 1)\n",
    "    print(rotation_matrix)\n",
    "    rotated_image = cv2.warpAffine(image, rotation_matrix, (cols, rows))\n",
    "    return rotated_image\n",
    "\n",
    "rotated_image = rotate(image1, 90)\n",
    "\n",
    "display_img(rotated_image, 'Rotated Image ' + str(rotated_image.shape))"
   ]
  },
  {
   "cell_type": "code",
   "execution_count": null,
   "id": "8890aa15",
   "metadata": {},
   "outputs": [],
   "source": [
    "def scale(image, sx, sy):\n",
    "    scaled_image = cv2.resize(image, None, fx=sx, fy=sy, interpolation=cv2.INTER_LINEAR)\n",
    "    return scaled_image\n",
    "\n",
    "scaled_image = scale(image1, 3, 2)\n",
    "\n",
    "display_img(scaled_image, 'Scaled Image ' + str(scaled_image.shape))"
   ]
  },
  {
   "cell_type": "code",
   "execution_count": null,
   "id": "1d3ac967",
   "metadata": {},
   "outputs": [],
   "source": [
    "def shear(image, shx, shy):\n",
    "    rows, cols = image.shape[:2]\n",
    "    shear_matrix = np.float32([[1, shx, 0], [shy, 1, 0]])\n",
    "    print(shear_matrix)\n",
    "    sheared_image = cv2.warpAffine(image, shear_matrix, (cols, rows))\n",
    "    return sheared_image\n",
    "\n",
    "sheared_image = shear(image1, 0.1, 0.3)\n",
    "\n",
    "display_img(sheared_image, 'Sheared Image ' + str(sheared_image.shape))"
   ]
  },
  {
   "cell_type": "code",
   "execution_count": null,
   "id": "7f9635db",
   "metadata": {},
   "outputs": [],
   "source": [
    "def shear(image, shx, shy):\n",
    "    rows, cols = image.shape[:2]\n",
    "    shear_matrix = np.float32([[1, shx, 0], [shy, 2, 0]])\n",
    "    print(shear_matrix)\n",
    "    sheared_image = cv2.warpAffine(image, shear_matrix, (cols, rows))\n",
    "    return sheared_image\n",
    "\n",
    "sheared_image = shear(image1, 0.1, 0.3)\n",
    "\n",
    "display_img(sheared_image, 'Sheared Image ' + str(sheared_image.shape))"
   ]
  },
  {
   "cell_type": "code",
   "execution_count": null,
   "id": "5659984f",
   "metadata": {},
   "outputs": [],
   "source": [
    "def affine_transform(image, matrix):\n",
    "    rows, cols = image.shape[:2]\n",
    "    transformed_image = cv2.warpAffine(image, matrix, (cols, rows))\n",
    "    return transformed_image\n",
    "\n",
    "affine_matrix = np.float32([[1, 0.1, 0], [0.3, 1, 0]])\n",
    "transformed_image = affine_transform(image1, affine_matrix)\n",
    "\n",
    "display_img(transformed_image, 'Transformed Image ' + str(transformed_image.shape))"
   ]
  },
  {
   "cell_type": "code",
   "execution_count": null,
   "id": "d8aeb484",
   "metadata": {},
   "outputs": [],
   "source": [
    "def perspective_transform(image, matrix):\n",
    "    rows, cols = image.shape[:2]\n",
    "    transformed_image = cv2.warpPerspective(image, matrix, (cols, rows))\n",
    "    return transformed_image\n",
    "\n",
    "def generate_perspective_matrix():\n",
    "    # Generate random values for translation along x and y axes\n",
    "    tx = 1000 # np.random.uniform(-50, 50)\n",
    "    ty = 500 # np.random.uniform(-50, 50)\n",
    "    \n",
    "    # Generate random values for rotation angle (in radians)\n",
    "    angle = 0 # np.random.uniform(-np.pi/4, np.pi/4)\n",
    "    cos_theta = np.cos(angle)\n",
    "    sin_theta = np.sin(angle)\n",
    "    \n",
    "    # Generate random values for scaling along x and y axes\n",
    "    sx = 3 # np.random.uniform(0.5, 2)\n",
    "    sy = 2 # np.random.uniform(0.5, 2)\n",
    "    \n",
    "    # Generate random values for shearing along x and y axes\n",
    "    shx = 0.1 # np.random.uniform(-0.2, 0.2)\n",
    "    shy = 0.3 # np.random.uniform(-0.2, 0.2)\n",
    "    \n",
    "    # Generate perspective transformation matrix\n",
    "    perspective_matrix = np.array([[cos_theta * sx, -sin_theta * sx + shx, tx],\n",
    "                                   [sin_theta * sy,  cos_theta * sy + shy, ty],\n",
    "                                   [0, 0, 1]])\n",
    "    return perspective_matrix\n",
    "\n",
    "# Transformation matrix for perspective transformation\n",
    "perspective_matrix = generate_perspective_matrix() # np.float32([[p11, p12, p13], [p21, p22, p23], [p31, p32, p33]])\n",
    "print(perspective_matrix)\n",
    "transformed_image = perspective_transform(image1, perspective_matrix)\n",
    "\n",
    "display_img(transformed_image, 'Transformed Image ' + str(transformed_image.shape))"
   ]
  }
 ],
 "metadata": {
  "kernelspec": {
   "display_name": "Python 3 (ipykernel)",
   "language": "python",
   "name": "python3"
  },
  "language_info": {
   "codemirror_mode": {
    "name": "ipython",
    "version": 3
   },
   "file_extension": ".py",
   "mimetype": "text/x-python",
   "name": "python",
   "nbconvert_exporter": "python",
   "pygments_lexer": "ipython3",
   "version": "3.9.12"
  }
 },
 "nbformat": 4,
 "nbformat_minor": 5
}
